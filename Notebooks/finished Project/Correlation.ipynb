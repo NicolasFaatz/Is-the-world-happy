{
 "cells": [
  {
   "cell_type": "code",
   "execution_count": 1,
   "metadata": {},
   "outputs": [],
   "source": [
    "import pandas as pd\n",
    "import seaborn as sns\n",
    "import matplotlib.pyplot as plt\n",
    "\n",
    "df2015 = pd.read_csv(\"/Users/janik.sdt/Documents/Is-the-world-happy/Datasets/Raw Data/2015.csv\")\n",
    "df2016 = pd.read_csv(\"/Users/janik.sdt/Documents/Is-the-world-happy/Datasets/Raw Data/2016.csv\")\n",
    "df2017 = pd.read_csv(\"/Users/janik.sdt/Documents/Is-the-world-happy/Datasets/Raw Data/2017.csv\")\n",
    "df2018 = pd.read_csv(\"/Users/janik.sdt/Documents/Is-the-world-happy/Datasets/Raw Data/2018.csv\")\n",
    "df2019 = pd.read_csv(\"/Users/janik.sdt/Documents/Is-the-world-happy/Datasets/Raw Data/2019.csv\")"
   ]
  },
  {
   "cell_type": "code",
   "execution_count": null,
   "metadata": {},
   "outputs": [],
   "source": []
  }
 ],
 "metadata": {
  "kernelspec": {
   "display_name": "Python 3",
   "language": "python",
   "name": "python3"
  },
  "language_info": {
   "codemirror_mode": {
    "name": "ipython",
    "version": 3
   },
   "file_extension": ".py",
   "mimetype": "text/x-python",
   "name": "python",
   "nbconvert_exporter": "python",
   "pygments_lexer": "ipython3",
   "version": "3.12.2"
  }
 },
 "nbformat": 4,
 "nbformat_minor": 2
}
